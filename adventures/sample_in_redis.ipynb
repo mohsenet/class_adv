{
 "cells": [
  {
   "cell_type": "code",
   "execution_count": 10,
   "id": "e66579ef-f6af-4942-8210-e50bb016e250",
   "metadata": {},
   "outputs": [],
   "source": [
    "import redis\n",
    "from enum import Enum\n",
    "\n",
    "\n",
    "class ProductCategory(str, Enum):\n",
    "    HOST = \"0.0.0.0\"\n",
    "    PORT = 6379\n",
    "    DB = 0\n",
    "    DECODE_RESPONSES = True\n",
    "    PASSWORD = \"fraud_detect\"\n",
    "\n",
    "# Connect to Redis\n",
    "redis_client = redis.StrictRedis(\n",
    "    host='0.0.0.0', \n",
    "    port=6379, \n",
    "    db=0, \n",
    "    decode_responses=True, \n",
    "    password=\"fraud_detect\"\n",
    ")"
   ]
  },
  {
   "cell_type": "code",
   "execution_count": 11,
   "id": "125ca04e-b893-43d5-aa71-7d0d2ab3db3b",
   "metadata": {},
   "outputs": [],
   "source": [
    "class RedisPipLine:\n",
    "    def __init__(self, key_name):\n",
    "        self.key_name = key_name\n",
    "\n",
    "    def set(self, data):\n",
    "        try:\n",
    "            redisClient.set(self.key_name, data)\n",
    "            return True\n",
    "        except Exception as e:\n",
    "            # write_log('error', 'redis set Exception error: ' + str(e))\n",
    "            return False\n",
    "\n",
    "    def get(self):\n",
    "        try:\n",
    "            data = redisClient.get(self.key_name)\n",
    "            if data:\n",
    "                return json.loads(data)\n",
    "            else:\n",
    "                return 0\n",
    "        except Exception as e:\n",
    "            # write_log('error', 'redis get Exception error: ' + str(e))\n",
    "            return []"
   ]
  },
  {
   "cell_type": "code",
   "execution_count": 14,
   "id": "6480db9a-2999-4f35-9b2b-64926e3fd20b",
   "metadata": {},
   "outputs": [
    {
     "ename": "NameError",
     "evalue": "name 'redisClient' is not defined",
     "output_type": "error",
     "traceback": [
      "\u001b[31m---------------------------------------------------------------------------\u001b[39m",
      "\u001b[31mNameError\u001b[39m                                 Traceback (most recent call last)",
      "\u001b[36mCell\u001b[39m\u001b[36m \u001b[39m\u001b[32mIn[14]\u001b[39m\u001b[32m, line 1\u001b[39m\n\u001b[32m----> \u001b[39m\u001b[32m1\u001b[39m x = \u001b[43mredisClient\u001b[49m.get(\u001b[33m'\u001b[39m\u001b[33mtxnid\u001b[39m\u001b[33m'\u001b[39m)\n",
      "\u001b[31mNameError\u001b[39m: name 'redisClient' is not defined"
     ]
    }
   ],
   "source": [
    "x = redisClient.get('txnid')"
   ]
  },
  {
   "cell_type": "code",
   "execution_count": 13,
   "id": "50b73ee0-a0c8-4261-b22c-ad3f24a0d3d5",
   "metadata": {},
   "outputs": [
    {
     "data": {
      "text/plain": [
       "[]"
      ]
     },
     "execution_count": 13,
     "metadata": {},
     "output_type": "execute_result"
    }
   ],
   "source": [
    "x.get()"
   ]
  },
  {
   "cell_type": "code",
   "execution_count": null,
   "id": "b256a0a0-4e31-4139-9ff4-c380dcd60464",
   "metadata": {},
   "outputs": [],
   "source": []
  }
 ],
 "metadata": {
  "kernelspec": {
   "display_name": "Python 3 (ipykernel)",
   "language": "python",
   "name": "python3"
  },
  "language_info": {
   "codemirror_mode": {
    "name": "ipython",
    "version": 3
   },
   "file_extension": ".py",
   "mimetype": "text/x-python",
   "name": "python",
   "nbconvert_exporter": "python",
   "pygments_lexer": "ipython3",
   "version": "3.11.11"
  }
 },
 "nbformat": 4,
 "nbformat_minor": 5
}
