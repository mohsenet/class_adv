{
 "cells": [
  {
   "cell_type": "markdown",
   "id": "764928ba-868a-48de-915c-bfb5399e1d01",
   "metadata": {},
   "source": [
    "### encapsulating using polymorphism\n",
    "`Favor Composition Over Inheritance` principle"
   ]
  },
  {
   "cell_type": "code",
   "execution_count": null,
   "id": "a9119a66-9c1b-4abe-bb48-96fab9b54ded",
   "metadata": {},
   "outputs": [],
   "source": []
  },
  {
   "cell_type": "code",
   "execution_count": null,
   "id": "4f3df00d-942a-44b6-8baf-7321f2ec44dd",
   "metadata": {},
   "outputs": [],
   "source": []
  }
 ],
 "metadata": {
  "kernelspec": {
   "display_name": "Python 3 (ipykernel)",
   "language": "python",
   "name": "python3"
  },
  "language_info": {
   "codemirror_mode": {
    "name": "ipython",
    "version": 3
   },
   "file_extension": ".py",
   "mimetype": "text/x-python",
   "name": "python",
   "nbconvert_exporter": "python",
   "pygments_lexer": "ipython3",
   "version": "3.10.12"
  }
 },
 "nbformat": 4,
 "nbformat_minor": 5
}
