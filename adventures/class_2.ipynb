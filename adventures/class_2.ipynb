{
 "cells": [
  {
   "cell_type": "markdown",
   "id": "764928ba-868a-48de-915c-bfb5399e1d01",
   "metadata": {
    "jp-MarkdownHeadingCollapsed": true
   },
   "source": [
    "### encapsulating using polymorphism\n",
    "`Favor Composition Over Inheritance` principle"
   ]
  },
  {
   "cell_type": "code",
   "execution_count": null,
   "id": "a9119a66-9c1b-4abe-bb48-96fab9b54ded",
   "metadata": {},
   "outputs": [],
   "source": []
  },
  {
   "cell_type": "markdown",
   "id": "5687a846-1042-4000-8e2d-ad5844ecd89d",
   "metadata": {},
   "source": [
    "### test RAG"
   ]
  },
  {
   "cell_type": "markdown",
   "id": "616e5d48-0f60-4ff6-8332-8af8a5eaa897",
   "metadata": {},
   "source": [
    "#### Retrieval augmented generation (RAG)"
   ]
  },
  {
   "cell_type": "markdown",
   "id": "a653242e-2da1-403a-b5ac-e8fdaf871d42",
   "metadata": {},
   "source": [
    "[langchain.com](https://www.langchain.com/)"
   ]
  },
  {
   "cell_type": "markdown",
   "id": "f076f2f6-8f79-4391-a1b0-ee4194ec7e2d",
   "metadata": {},
   "source": [
    "```bash\n",
    "uv add langchain langchain_community faiss-cpu sentence-transformers transformers\n",
    "```"
   ]
  },
  {
   "cell_type": "code",
   "execution_count": 1,
   "id": "1a696b3f-cb25-4507-aff1-bd42e9693038",
   "metadata": {},
   "outputs": [
    {
     "name": "stderr",
     "output_type": "stream",
     "text": [
      "/home/mohsen/frr/source_venv/.venv/lib/python3.10/site-packages/tqdm/auto.py:21: TqdmWarning: IProgress not found. Please update jupyter and ipywidgets. See https://ipywidgets.readthedocs.io/en/stable/user_install.html\n",
      "  from .autonotebook import tqdm as notebook_tqdm\n"
     ]
    }
   ],
   "source": [
    "from langchain.llms import HuggingFacePipeline\n",
    "from langchain.chains import RetrievalQA\n",
    "from langchain.chains.question_answering import load_qa_chain\n",
    "from langchain.prompts import PromptTemplate\n",
    "from transformers import pipeline\n",
    "from langchain_community.vectorstores import FAISS"
   ]
  },
  {
   "cell_type": "code",
   "execution_count": 2,
   "id": "eca6afd9-d70e-4085-9a18-13428b4f919a",
   "metadata": {},
   "outputs": [
    {
     "name": "stdout",
     "output_type": "stream",
     "text": [
      "Downloading zip file...\n",
      "Download complete!\n",
      "Extracting files...\n",
      "Files extracted to: asia_txt_files\n",
      "Extracted files:\n",
      "['Taiwan.txt', 'Vietnam.txt', 'Japan.txt', 'Thailand.txt', 'Philippines.txt', 'Mongolia.txt', 'Malaysia.txt', 'South_Korea.txt', 'Indonesia.txt']\n"
     ]
    }
   ],
   "source": [
    "import os\n",
    "import urllib.request\n",
    "import zipfile\n",
    "\n",
    "zip_url = \"https://github.com/gakudo-ai/open-datasets/raw/refs/heads/main/asia_documents.zip\"\n",
    "zip_path = \"asia_documents.zip\"\n",
    "extract_folder = \"asia_txt_files\"\n",
    "\n",
    "print(\"Downloading zip file...\")\n",
    "urllib.request.urlretrieve(zip_url, zip_path)\n",
    "print(\"Download complete!\")\n",
    "\n",
    "print(\"Extracting files...\")\n",
    "os.makedirs(extract_folder, exist_ok=True)\n",
    "with zipfile.ZipFile(zip_path, \"r\") as zip_ref:\n",
    "    zip_ref.extractall(extract_folder)\n",
    "\n",
    "print(f\"Files extracted to: {extract_folder}\")\n",
    "\n",
    "print(\"Extracted files:\")\n",
    "print(os.listdir(extract_folder))"
   ]
  },
  {
   "cell_type": "code",
   "execution_count": 3,
   "id": "bf3daebf-a9cb-42bd-8672-942e3b0e4d13",
   "metadata": {},
   "outputs": [
    {
     "name": "stderr",
     "output_type": "stream",
     "text": [
      "/tmp/ipykernel_7067/3547156480.py:18: LangChainDeprecationWarning: The class `HuggingFaceEmbeddings` was deprecated in LangChain 0.2.2 and will be removed in 1.0. An updated version of the class exists in the :class:`~langchain-huggingface package and should be used instead. To use it run `pip install -U :class:`~langchain-huggingface` and import as `from :class:`~langchain_huggingface import HuggingFaceEmbeddings``.\n",
      "  embedding_model = HuggingFaceEmbeddings(model_name=\"sentence-transformers/all-MiniLM-L6-v2\")\n"
     ]
    }
   ],
   "source": [
    "import os\n",
    "from langchain_community.document_loaders import TextLoader\n",
    "from langchain.text_splitter import CharacterTextSplitter\n",
    "from langchain_community.embeddings import HuggingFaceEmbeddings\n",
    "\n",
    "folder_path = \"asia_txt_files\"\n",
    "\n",
    "documents = []\n",
    "for filename in os.listdir(folder_path):\n",
    "    if filename.endswith(\".txt\"):\n",
    "        file_path = os.path.join(folder_path, filename)\n",
    "        loader = TextLoader(file_path)\n",
    "        documents.extend(loader.load())\n",
    "\n",
    "text_splitter = CharacterTextSplitter(chunk_size=500, chunk_overlap=100)\n",
    "docs = text_splitter.split_documents(documents)\n",
    "\n",
    "embedding_model = HuggingFaceEmbeddings(model_name=\"sentence-transformers/all-MiniLM-L6-v2\")\n",
    "\n",
    "vectorstore = FAISS.from_documents(docs, embedding_model)\n",
    "retriever = vectorstore.as_retriever()"
   ]
  },
  {
   "cell_type": "code",
   "execution_count": 4,
   "id": "97d3602a-c9e3-4f8f-a68d-d32270807e62",
   "metadata": {},
   "outputs": [
    {
     "name": "stderr",
     "output_type": "stream",
     "text": [
      "Device set to use cpu\n",
      "/tmp/ipykernel_7067/1039723432.py:7: LangChainDeprecationWarning: The class `HuggingFacePipeline` was deprecated in LangChain 0.0.37 and will be removed in 1.0. An updated version of the class exists in the :class:`~langchain-huggingface package and should be used instead. To use it run `pip install -U :class:`~langchain-huggingface` and import as `from :class:`~langchain_huggingface import HuggingFacePipeline``.\n",
      "  llm = HuggingFacePipeline(pipeline=llm_pipeline)\n"
     ]
    }
   ],
   "source": [
    "from langchain.chains import LLMChain\n",
    "from langchain.prompts import PromptTemplate\n",
    "from langchain.chains import RetrievalQA\n",
    "from transformers import pipeline\n",
    "\n",
    "llm_pipeline = pipeline(\"text-generation\", model=\"gpt2\", device=0, max_new_tokens=200)\n",
    "llm = HuggingFacePipeline(pipeline=llm_pipeline)"
   ]
  },
  {
   "cell_type": "code",
   "execution_count": 5,
   "id": "e284c77e-fa53-44db-9f48-0e38f06b63e6",
   "metadata": {},
   "outputs": [
    {
     "name": "stderr",
     "output_type": "stream",
     "text": [
      "/tmp/ipykernel_7067/3374809406.py:5: LangChainDeprecationWarning: The class `LLMChain` was deprecated in LangChain 0.1.17 and will be removed in 1.0. Use :meth:`~RunnableSequence, e.g., `prompt | llm`` instead.\n",
      "  llm_chain = LLMChain(llm=llm, prompt=prompt)\n"
     ]
    }
   ],
   "source": [
    "prompt_template = \"Answer the following question based on the provided context: {context}\\n\\nQuestion: {query}\\nAnswer:\"\n",
    "\n",
    "prompt = PromptTemplate(input_variables=[\"query\", \"context\"], template=prompt_template)\n",
    "\n",
    "llm_chain = LLMChain(llm=llm, prompt=prompt)\n",
    "\n",
    "retrieval_qa = RetrievalQA.from_chain_type(\n",
    "    llm=llm,\n",
    "    chain_type=\"stuff\",\n",
    "    retriever=retriever,\n",
    "    verbose=True\n",
    ")"
   ]
  },
  {
   "cell_type": "code",
   "execution_count": 6,
   "id": "f2474f71-1467-4085-8e9c-3f224609c556",
   "metadata": {},
   "outputs": [],
   "source": [
    "def truncate_to_max_tokens(text, max_tokens=500):\n",
    "    tokens = text.split()\n",
    "    if len(tokens) > max_tokens:\n",
    "        return \" \".join(tokens[:max_tokens])\n",
    "    return text"
   ]
  },
  {
   "cell_type": "code",
   "execution_count": 7,
   "id": "3f8bafa8-944a-4241-a09f-198064e2cffe",
   "metadata": {},
   "outputs": [
    {
     "name": "stderr",
     "output_type": "stream",
     "text": [
      "/tmp/ipykernel_7067/2551516082.py:4: LangChainDeprecationWarning: The method `BaseRetriever.get_relevant_documents` was deprecated in langchain-core 0.1.46 and will be removed in 1.0. Use :meth:`~invoke` instead.\n",
      "  retrieved_docs = retriever.get_relevant_documents(query)[:1]\n",
      "/tmp/ipykernel_7067/2551516082.py:7: LangChainDeprecationWarning: The method `Chain.run` was deprecated in langchain 0.1.0 and will be removed in 1.0. Use :meth:`~invoke` instead.\n",
      "  response = retrieval_qa.run(query)\n"
     ]
    },
    {
     "name": "stdout",
     "output_type": "stream",
     "text": [
      "\n",
      "\n",
      "\u001b[1m> Entering new RetrievalQA chain...\u001b[0m\n"
     ]
    },
    {
     "name": "stderr",
     "output_type": "stream",
     "text": [
      "Setting `pad_token_id` to `eos_token_id`:50256 for open-end generation.\n"
     ]
    },
    {
     "name": "stdout",
     "output_type": "stream",
     "text": [
      "\n",
      "\u001b[1m> Finished chain.\u001b[0m\n",
      "Answer: Use the following pieces of context to answer the question at the end. If you don't know the answer, just say that you don't know, don't try to make up an answer.\n",
      "\n",
      "Vietnam is a Southeast Asian country known for its rich history, diverse landscapes, and delicious cuisine. Hanoi and Ho Chi Minh City are its major urban centers, each with a unique character. Ha Long Bay’s limestone karsts and the Mekong Delta’s floating markets are famous geographical highlights. Vietnamese culture is deeply influenced by Confucian values, French colonial heritage, and indigenous traditions.\n",
      "\n",
      "Thailand is a Southeast Asian country famous for its tropical beaches, ornate temples, and bustling street food culture. Bangkok, the capital, is known for its vibrant nightlife and historical sites like the Grand Palace and Wat Arun. Northern Thailand features mountainous landscapes and cultural cities like Chiang Mai, while the south offers world-renowned islands such as Phuket and Koh Samui.\n",
      "\n",
      "Malaysia is a diverse country in Southeast Asia, divided into Peninsular Malaysia and Malaysian Borneo. Kuala Lumpur, the capital, features the iconic Petronas Towers. The country is known for its multicultural society, rainforests, and beautiful islands such as Langkawi. Malaysian cuisine blends Malay, Chinese, and Indian influences, making it one of the most flavorful in the region.\n",
      "\n",
      "Japan is an island nation in East Asia, known for its unique blend of ancient traditions and cutting-edge technology. It has a rich cultural heritage, including tea ceremonies, sumo wrestling, and kabuki theater. Geographically, Japan consists of four main islands and numerous smaller ones, featuring mountains, forests, and a rugged coastline. Mount Fuji is its most iconic peak. Major cities include Tokyo, Kyoto, and Osaka, each offering distinct experiences from historical temples to modern skyscrapers.\n",
      "\n",
      "Question: What are the best Asian cuisine dishes?\n",
      "Helpful Answer:\n",
      "\n",
      "Asian cuisine is an excellent complement to some of the finest Malaysian foods that your food lover may have heard of. Many of these recipes serve as easy to find and affordable ways to prepare the cuisine. There are so many different kinds of Malaysian cuisine on the market and they can all have unique and delicious uses. For example, it is amazing to get so many different types of spices that can be added to some of these Malaysian dishes.\n",
      "\n",
      "It is definitely a joy to cook in Malaysia, but some of you may find you really crave Vietnamese. We recommend pairing these flavors with your main Asian drink. If your main alcoholic drink is alcohol, then you might want to stop by Malaysian and ask for Korean. Malaysian culture is also a lot richer than my own.\n",
      "\n",
      "Ask about Thai food. A few friends of mine from our Thai restaurant know that Thai cuisine can be a great way for you to get to know each other. Ask them to ask you if you find\n"
     ]
    }
   ],
   "source": [
    "query = \"What are the best Asian cuisine dishes?\"\n",
    "\n",
    "# IMPORTANT: using only the top-1 document by default\n",
    "retrieved_docs = retriever.get_relevant_documents(query)[:1]\n",
    "context = \" \".join([doc.page_content for doc in retrieved_docs])\n",
    "context = truncate_to_max_tokens(context, max_tokens=500)\n",
    "response = retrieval_qa.run(query)\n",
    "print(\"Answer:\", response)"
   ]
  },
  {
   "cell_type": "code",
   "execution_count": null,
   "id": "b1af6de1-69ff-4e47-a4c1-6af1366184fe",
   "metadata": {},
   "outputs": [],
   "source": []
  }
 ],
 "metadata": {
  "kernelspec": {
   "display_name": "Python 3 (ipykernel)",
   "language": "python",
   "name": "python3"
  },
  "language_info": {
   "codemirror_mode": {
    "name": "ipython",
    "version": 3
   },
   "file_extension": ".py",
   "mimetype": "text/x-python",
   "name": "python",
   "nbconvert_exporter": "python",
   "pygments_lexer": "ipython3",
   "version": "3.10.12"
  }
 },
 "nbformat": 4,
 "nbformat_minor": 5
}
