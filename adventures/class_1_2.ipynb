{
 "cells": [
  {
   "cell_type": "markdown",
   "id": "764928ba-868a-48de-915c-bfb5399e1d01",
   "metadata": {},
   "source": [
    "### encapsulating using a property"
   ]
  },
  {
   "cell_type": "markdown",
   "id": "f1960819-4261-4409-8db2-6c1a862c0198",
   "metadata": {},
   "source": [
    "#### Sample [1]"
   ]
  },
  {
   "cell_type": "code",
   "execution_count": 1,
   "id": "55760010-b458-407a-8d3f-7f59e429db3d",
   "metadata": {},
   "outputs": [
    {
     "name": "stdout",
     "output_type": "stream",
     "text": [
      "Initial radius: 10\n",
      "New radius: 15\n"
     ]
    }
   ],
   "source": [
    "class Circle:\n",
    "    def __init__(self, radius: int):\n",
    "        self._radius: int = radius\n",
    "\n",
    "    @property\n",
    "    def radius(self):\n",
    "        return self._radius\n",
    "\n",
    "    @radius.setter\n",
    "    def radius(self, value: int):\n",
    "        if value < 0:\n",
    "            raise ValueError(\"Radius cannot be negative!\")\n",
    "        self._radius = value\n",
    "\n",
    "\n",
    "if __name__ == \"__main__\":\n",
    "    circle = Circle(10)\n",
    "    print(f\"Initial radius: {circle.radius}\")\n",
    "\n",
    "    circle.radius = 15\n",
    "    print(f\"New radius: {circle.radius}\")"
   ]
  },
  {
   "cell_type": "code",
   "execution_count": null,
   "id": "dd0f4c76-f319-42fe-8473-e9a5df57ed20",
   "metadata": {},
   "outputs": [],
   "source": []
  }
 ],
 "metadata": {
  "kernelspec": {
   "display_name": "Python 3 (ipykernel)",
   "language": "python",
   "name": "python3"
  },
  "language_info": {
   "codemirror_mode": {
    "name": "ipython",
    "version": 3
   },
   "file_extension": ".py",
   "mimetype": "text/x-python",
   "name": "python",
   "nbconvert_exporter": "python",
   "pygments_lexer": "ipython3",
   "version": "3.11.11"
  }
 },
 "nbformat": 4,
 "nbformat_minor": 5
}
