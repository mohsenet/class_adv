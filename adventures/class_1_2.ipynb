{
 "cells": [
  {
   "cell_type": "markdown",
   "id": "764928ba-868a-48de-915c-bfb5399e1d01",
   "metadata": {},
   "source": [
    "### encapsulating using a property"
   ]
  },
  {
   "cell_type": "markdown",
   "id": "f1960819-4261-4409-8db2-6c1a862c0198",
   "metadata": {
    "jp-MarkdownHeadingCollapsed": true
   },
   "source": [
    "#### Sample [1]"
   ]
  },
  {
   "cell_type": "code",
   "execution_count": 1,
   "id": "55760010-b458-407a-8d3f-7f59e429db3d",
   "metadata": {},
   "outputs": [
    {
     "name": "stdout",
     "output_type": "stream",
     "text": [
      "Initial radius: 10\n",
      "New radius: 15\n"
     ]
    }
   ],
   "source": [
    "class Circle:\n",
    "    def __init__(self, radius: int):\n",
    "        self._radius: int = radius\n",
    "\n",
    "    @property\n",
    "    def radius(self):\n",
    "        return self._radius\n",
    "\n",
    "    @radius.setter\n",
    "    def radius(self, value: int):\n",
    "        if value < 0:\n",
    "            raise ValueError(\"Radius cannot be negative!\")\n",
    "        self._radius = value\n",
    "\n",
    "\n",
    "if __name__ == \"__main__\":\n",
    "    circle = Circle(10)\n",
    "    print(f\"Initial radius: {circle.radius}\")\n",
    "\n",
    "    circle.radius = 15\n",
    "    print(f\"New radius: {circle.radius}\")"
   ]
  },
  {
   "cell_type": "markdown",
   "id": "cd1e0f2e-57fb-4100-b52b-b8112d588528",
   "metadata": {},
   "source": [
    "#### Sample [2]"
   ]
  },
  {
   "cell_type": "code",
   "execution_count": 2,
   "id": "070b1744-0aa5-4c00-bba4-3f0356e80982",
   "metadata": {},
   "outputs": [
    {
     "name": "stdout",
     "output_type": "stream",
     "text": [
      "Alice is 30 years old\n",
      "After birthday: 35\n",
      "After celebration: 36\n",
      "Error: Age cannot be negative\n"
     ]
    }
   ],
   "source": [
    "class Person:\n",
    "    def __init__(self, name: str, age: int):\n",
    "        self.name = name\n",
    "        self._age = age  # Private backing field\n",
    "\n",
    "    @property\n",
    "    def age(self) -> int:\n",
    "        \"\"\"Getter for age with validation\"\"\"\n",
    "        return self._age\n",
    "\n",
    "    @age.setter\n",
    "    def age(self, value: int) -> None:\n",
    "        \"\"\"Setter for age with validation\"\"\"\n",
    "        if not isinstance(value, int):\n",
    "            raise TypeError(\"Age must be an integer\")\n",
    "        if value < 0:\n",
    "            raise ValueError(\"Age cannot be negative\")\n",
    "        if value > 120:\n",
    "            raise ValueError(\"Age seems unrealistic (over 120)\")\n",
    "        self._age = value\n",
    "\n",
    "    def celebrate_birthday(self) -> None:\n",
    "        \"\"\"Increment age by 1\"\"\"\n",
    "        self.age += 1  # Uses the property setter\n",
    "\n",
    "\n",
    "if __name__ == \"__main__\":\n",
    "    person = Person(\"Alice\", 30)\n",
    "    print(f\"{person.name} is {person.age} years old\")\n",
    "\n",
    "    person.age = 35  # Valid assignment\n",
    "    print(f\"After birthday: {person.age}\")\n",
    "\n",
    "    person.celebrate_birthday()\n",
    "    print(f\"After celebration: {person.age}\")\n",
    "\n",
    "    try:\n",
    "        person.age = -5  # Invalid assignment\n",
    "    except ValueError as e:\n",
    "        print(f\"Error: {e}\")"
   ]
  },
  {
   "cell_type": "code",
   "execution_count": null,
   "id": "cd899c6d-1223-494c-b6c4-da25b416039d",
   "metadata": {},
   "outputs": [],
   "source": []
  }
 ],
 "metadata": {
  "kernelspec": {
   "display_name": "Python 3 (ipykernel)",
   "language": "python",
   "name": "python3"
  },
  "language_info": {
   "codemirror_mode": {
    "name": "ipython",
    "version": 3
   },
   "file_extension": ".py",
   "mimetype": "text/x-python",
   "name": "python",
   "nbconvert_exporter": "python",
   "pygments_lexer": "ipython3",
   "version": "3.11.11"
  }
 },
 "nbformat": 4,
 "nbformat_minor": 5
}
