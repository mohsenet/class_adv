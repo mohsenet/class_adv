{
 "cells": [
  {
   "cell_type": "code",
   "execution_count": 3,
   "id": "dd1f4670-71bd-49cd-9d06-3264753ff498",
   "metadata": {},
   "outputs": [],
   "source": [
    "# encapsulating using polymorphism\n",
    "class NotificationBase:\n",
    "    def __init__(self, message: str):\n",
    "        self.message: str = message\n",
    "        \n",
    "    def send(self):\n",
    "        pass\n",
    "\n",
    "class EmailNotification(NotificationBase):\n",
    "    def send(self):\n",
    "        print(f\"Sending email: {self.message}\")\n",
    "\n",
    "class SMSNotification(NotificationBase):\n",
    "    def send(self):\n",
    "        print(f\"Sending SMS: {self.message}\")\n",
    "\n",
    "class PushNotification(NotificationBase):\n",
    "    def send(self):\n",
    "        print(f\"Sending push notification: {self.message}\")"
   ]
  },
  {
   "cell_type": "code",
   "execution_count": 4,
   "id": "d53832b8-2b1a-4f17-beba-45cf1ecfb277",
   "metadata": {},
   "outputs": [
    {
     "name": "stdout",
     "output_type": "stream",
     "text": [
      "Sending email: Hello via email!\n",
      "Sending SMS: Hello via text!\n",
      "Sending push notification: Hello via app!\n"
     ]
    }
   ],
   "source": [
    "if __name__ == \"__main__\":\n",
    "    notifications = [\n",
    "        EmailNotification(\"Hello via email!\"),\n",
    "        SMSNotification(\"Hello via text!\"),\n",
    "        PushNotification(\"Hello via app!\")\n",
    "    ]\n",
    "    \n",
    "    for notification in notifications:\n",
    "        notification.send()"
   ]
  },
  {
   "cell_type": "code",
   "execution_count": 5,
   "id": "4dcaa90a-0618-4123-971b-8df7f18ce462",
   "metadata": {},
   "outputs": [
    {
     "data": {
      "text/plain": [
       "'__main__'"
      ]
     },
     "execution_count": 5,
     "metadata": {},
     "output_type": "execute_result"
    }
   ],
   "source": [
    "__name__"
   ]
  },
  {
   "cell_type": "code",
   "execution_count": null,
   "id": "6b38aba4-994e-42c4-aa3b-3a4b83cc45c8",
   "metadata": {},
   "outputs": [],
   "source": []
  }
 ],
 "metadata": {
  "kernelspec": {
   "display_name": "Python 3 (ipykernel)",
   "language": "python",
   "name": "python3"
  },
  "language_info": {
   "codemirror_mode": {
    "name": "ipython",
    "version": 3
   },
   "file_extension": ".py",
   "mimetype": "text/x-python",
   "name": "python",
   "nbconvert_exporter": "python",
   "pygments_lexer": "ipython3",
   "version": "3.11.11"
  }
 },
 "nbformat": 4,
 "nbformat_minor": 5
}
