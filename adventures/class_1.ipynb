{
 "cells": [
  {
   "cell_type": "markdown",
   "id": "59e80976-03ee-4bdc-9ff6-a8b55828c97e",
   "metadata": {},
   "source": [
    "### encapsulating using polymorphism\n",
    "`Encapsulate What Varies` principle"
   ]
  },
  {
   "cell_type": "markdown",
   "id": "36ef88c5-774f-495f-bee6-53797179ac1d",
   "metadata": {
    "jp-MarkdownHeadingCollapsed": true
   },
   "source": [
    "#### Sample [1]"
   ]
  },
  {
   "cell_type": "code",
   "execution_count": 1,
   "id": "dd1f4670-71bd-49cd-9d06-3264753ff498",
   "metadata": {},
   "outputs": [],
   "source": [
    "class NotificationBase:\n",
    "    def __init__(self, message: str):\n",
    "        self.message: str = message\n",
    "        \n",
    "    def send(self):\n",
    "        pass\n",
    "\n",
    "class EmailNotification(NotificationBase):\n",
    "    def send(self):\n",
    "        print(f\"Sending email: {self.message}\")\n",
    "\n",
    "class SMSNotification(NotificationBase):\n",
    "    def send(self):\n",
    "        print(f\"Sending SMS: {self.message}\")\n",
    "\n",
    "class PushNotification(NotificationBase):\n",
    "    def send(self):\n",
    "        print(f\"Sending push notification: {self.message}\")"
   ]
  },
  {
   "cell_type": "code",
   "execution_count": 2,
   "id": "d53832b8-2b1a-4f17-beba-45cf1ecfb277",
   "metadata": {},
   "outputs": [
    {
     "name": "stdout",
     "output_type": "stream",
     "text": [
      "Sending email: Hello via email!\n",
      "Sending SMS: Hello via text!\n",
      "Sending push notification: Hello via app!\n"
     ]
    }
   ],
   "source": [
    "if __name__ == \"__main__\":\n",
    "    notifications = [\n",
    "        EmailNotification(\"Hello via email!\"),\n",
    "        SMSNotification(\"Hello via text!\"),\n",
    "        PushNotification(\"Hello via app!\")\n",
    "    ]\n",
    "    \n",
    "    for notification in notifications:\n",
    "        notification.send()"
   ]
  },
  {
   "cell_type": "markdown",
   "id": "4235f16e-cd5f-48df-920b-abae5b68981b",
   "metadata": {},
   "source": [
    "#### Sample [2]"
   ]
  },
  {
   "cell_type": "code",
   "execution_count": 3,
   "id": "6b38aba4-994e-42c4-aa3b-3a4b83cc45c8",
   "metadata": {},
   "outputs": [],
   "source": [
    "class Rectangle:\n",
    "    def __init__(self, width, height):\n",
    "        self.width = width\n",
    "        self.height = height\n",
    "    \n",
    "    def area(self):\n",
    "        return self.width * self.height\n",
    "\n",
    "\n",
    "class Circle:\n",
    "    def __init__(self, radius):\n",
    "        self.radius = radius\n",
    "    \n",
    "    def area(self):\n",
    "        return 3.14159 * (self.radius ** 2)\n",
    "\n",
    "\n",
    "class Triangle:\n",
    "    def __init__(self, base, height):\n",
    "        self.base = base\n",
    "        self.height = height\n",
    "    \n",
    "    def area(self):\n",
    "        return 0.5 * self.base * self.height"
   ]
  },
  {
   "cell_type": "code",
   "execution_count": 4,
   "id": "a7a326df-dddb-4f97-b35e-8224bd60422c",
   "metadata": {},
   "outputs": [
    {
     "name": "stdout",
     "output_type": "stream",
     "text": [
      "Total area: 54.27431\n"
     ]
    }
   ],
   "source": [
    "# Polymorphic function that works with any shape\n",
    "def calculate_total_area(shapes):\n",
    "    total = 0\n",
    "    for shape in shapes:\n",
    "        total += shape.area()  # Polymorphic call\n",
    "    return total\n",
    "\n",
    "\n",
    "# Usage\n",
    "shapes = [\n",
    "    Rectangle(4, 5),\n",
    "    Circle(3),\n",
    "    Triangle(6, 2)\n",
    "]\n",
    "\n",
    "print(f\"Total area: {calculate_total_area(shapes)}\")"
   ]
  },
  {
   "cell_type": "markdown",
   "id": "b4ac344c-b2be-4a0f-bb05-116f3e7c4340",
   "metadata": {},
   "source": [
    "### Sample [3] with property"
   ]
  },
  {
   "cell_type": "code",
   "execution_count": 7,
   "id": "273c36dc-cdd4-4866-82e1-9265ac3ac27b",
   "metadata": {},
   "outputs": [
    {
     "name": "stdout",
     "output_type": "stream",
     "text": [
      "Initial radius: 10\n",
      "New radius: 15\n"
     ]
    }
   ],
   "source": [
    "class Circle:\n",
    "    def __init__(self, radius: int):\n",
    "       self._radius: int = radius\n",
    "\n",
    "    @property\n",
    "    def radius(self):\n",
    "        return self._radius\n",
    "\n",
    "    @radius.setter\n",
    "    def radius(self, value: int):\n",
    "        if value < 0:\n",
    "            raise ValueError(\"Radius cannot be negative!\")\n",
    "        self._radius = value\n",
    "\n",
    "if __name__ == \"__main__\":\n",
    "    circle = Circle(10)\n",
    "    print(f\"Initial radius: {circle.radius}\")\n",
    "\n",
    "    circle.radius = 15\n",
    "    print(f\"New radius: {circle.radius}\")"
   ]
  },
  {
   "cell_type": "code",
   "execution_count": null,
   "id": "ffdf4a09-bd39-4d01-9205-753fc7b155bd",
   "metadata": {},
   "outputs": [],
   "source": []
  }
 ],
 "metadata": {
  "kernelspec": {
   "display_name": "Python 3 (ipykernel)",
   "language": "python",
   "name": "python3"
  },
  "language_info": {
   "codemirror_mode": {
    "name": "ipython",
    "version": 3
   },
   "file_extension": ".py",
   "mimetype": "text/x-python",
   "name": "python",
   "nbconvert_exporter": "python",
   "pygments_lexer": "ipython3",
   "version": "3.10.12"
  }
 },
 "nbformat": 4,
 "nbformat_minor": 5
}
